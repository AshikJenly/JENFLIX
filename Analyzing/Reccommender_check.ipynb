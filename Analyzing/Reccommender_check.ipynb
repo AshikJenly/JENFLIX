{
 "cells": [
  {
   "cell_type": "code",
   "execution_count": 1,
   "id": "f259a6fa",
   "metadata": {},
   "outputs": [],
   "source": [
    "import pandas as pd"
   ]
  },
  {
   "cell_type": "code",
   "execution_count": 11,
   "id": "f361f7e6",
   "metadata": {},
   "outputs": [],
   "source": [
    "movie_data=pd.read_csv('Analyzed_DataSets/Final_movie.csv',index_col=0)"
   ]
  },
  {
   "cell_type": "code",
   "execution_count": 17,
   "id": "1ff3909f",
   "metadata": {},
   "outputs": [
    {
     "data": {
      "text/html": [
       "<div>\n",
       "<style scoped>\n",
       "    .dataframe tbody tr th:only-of-type {\n",
       "        vertical-align: middle;\n",
       "    }\n",
       "\n",
       "    .dataframe tbody tr th {\n",
       "        vertical-align: top;\n",
       "    }\n",
       "\n",
       "    .dataframe thead th {\n",
       "        text-align: right;\n",
       "    }\n",
       "</style>\n",
       "<table border=\"1\" class=\"dataframe\">\n",
       "  <thead>\n",
       "    <tr style=\"text-align: right;\">\n",
       "      <th></th>\n",
       "      <th>movie_id</th>\n",
       "      <th>title</th>\n",
       "      <th>tags</th>\n",
       "    </tr>\n",
       "  </thead>\n",
       "  <tbody>\n",
       "    <tr>\n",
       "      <th>0</th>\n",
       "      <td>19995</td>\n",
       "      <td>Avatar</td>\n",
       "      <td>[22nd, century,, paraplegic, marine, dispatche...</td>\n",
       "    </tr>\n",
       "    <tr>\n",
       "      <th>1</th>\n",
       "      <td>285</td>\n",
       "      <td>Pirates of the Caribbean: At World's End</td>\n",
       "      <td>[captain, barbossa,, long, believed, dead,, co...</td>\n",
       "    </tr>\n",
       "    <tr>\n",
       "      <th>2</th>\n",
       "      <td>206647</td>\n",
       "      <td>Spectre</td>\n",
       "      <td>[cryptic, message, bond’s, past, sends, trail,...</td>\n",
       "    </tr>\n",
       "    <tr>\n",
       "      <th>3</th>\n",
       "      <td>49026</td>\n",
       "      <td>The Dark Knight Rises</td>\n",
       "      <td>[following, death, district, attorney, harvey,...</td>\n",
       "    </tr>\n",
       "    <tr>\n",
       "      <th>4</th>\n",
       "      <td>49529</td>\n",
       "      <td>John Carter</td>\n",
       "      <td>[john, carter, war-weary,, former, military, c...</td>\n",
       "    </tr>\n",
       "  </tbody>\n",
       "</table>\n",
       "</div>"
      ],
      "text/plain": [
       "   movie_id                                     title  \\\n",
       "0     19995                                    Avatar   \n",
       "1       285  Pirates of the Caribbean: At World's End   \n",
       "2    206647                                   Spectre   \n",
       "3     49026                     The Dark Knight Rises   \n",
       "4     49529                               John Carter   \n",
       "\n",
       "                                                tags  \n",
       "0  [22nd, century,, paraplegic, marine, dispatche...  \n",
       "1  [captain, barbossa,, long, believed, dead,, co...  \n",
       "2  [cryptic, message, bond’s, past, sends, trail,...  \n",
       "3  [following, death, district, attorney, harvey,...  \n",
       "4  [john, carter, war-weary,, former, military, c...  "
      ]
     },
     "execution_count": 17,
     "metadata": {},
     "output_type": "execute_result"
    }
   ],
   "source": [
    "movie_data.head()"
   ]
  },
  {
   "cell_type": "code",
   "execution_count": 16,
   "id": "9b8174e6",
   "metadata": {},
   "outputs": [],
   "source": [
    "movie_data['tags']=movie_data['tags'].apply(lambda x:eval(x))"
   ]
  },
  {
   "cell_type": "code",
   "execution_count": 18,
   "id": "7fe261c7",
   "metadata": {},
   "outputs": [],
   "source": [
    "movie_data['tags']=movie_data['tags'].apply(lambda x:' '.join(x))"
   ]
  },
  {
   "cell_type": "code",
   "execution_count": 19,
   "id": "bfa47d59",
   "metadata": {},
   "outputs": [
    {
     "data": {
      "text/html": [
       "<div>\n",
       "<style scoped>\n",
       "    .dataframe tbody tr th:only-of-type {\n",
       "        vertical-align: middle;\n",
       "    }\n",
       "\n",
       "    .dataframe tbody tr th {\n",
       "        vertical-align: top;\n",
       "    }\n",
       "\n",
       "    .dataframe thead th {\n",
       "        text-align: right;\n",
       "    }\n",
       "</style>\n",
       "<table border=\"1\" class=\"dataframe\">\n",
       "  <thead>\n",
       "    <tr style=\"text-align: right;\">\n",
       "      <th></th>\n",
       "      <th>movie_id</th>\n",
       "      <th>title</th>\n",
       "      <th>tags</th>\n",
       "    </tr>\n",
       "  </thead>\n",
       "  <tbody>\n",
       "    <tr>\n",
       "      <th>0</th>\n",
       "      <td>19995</td>\n",
       "      <td>Avatar</td>\n",
       "      <td>22nd century, paraplegic marine dispatched moo...</td>\n",
       "    </tr>\n",
       "    <tr>\n",
       "      <th>1</th>\n",
       "      <td>285</td>\n",
       "      <td>Pirates of the Caribbean: At World's End</td>\n",
       "      <td>captain barbossa, long believed dead, come bac...</td>\n",
       "    </tr>\n",
       "    <tr>\n",
       "      <th>2</th>\n",
       "      <td>206647</td>\n",
       "      <td>Spectre</td>\n",
       "      <td>cryptic message bond’s past sends trail uncove...</td>\n",
       "    </tr>\n",
       "    <tr>\n",
       "      <th>3</th>\n",
       "      <td>49026</td>\n",
       "      <td>The Dark Knight Rises</td>\n",
       "      <td>following death district attorney harvey dent,...</td>\n",
       "    </tr>\n",
       "    <tr>\n",
       "      <th>4</th>\n",
       "      <td>49529</td>\n",
       "      <td>John Carter</td>\n",
       "      <td>john carter war-weary, former military captain...</td>\n",
       "    </tr>\n",
       "  </tbody>\n",
       "</table>\n",
       "</div>"
      ],
      "text/plain": [
       "   movie_id                                     title  \\\n",
       "0     19995                                    Avatar   \n",
       "1       285  Pirates of the Caribbean: At World's End   \n",
       "2    206647                                   Spectre   \n",
       "3     49026                     The Dark Knight Rises   \n",
       "4     49529                               John Carter   \n",
       "\n",
       "                                                tags  \n",
       "0  22nd century, paraplegic marine dispatched moo...  \n",
       "1  captain barbossa, long believed dead, come bac...  \n",
       "2  cryptic message bond’s past sends trail uncove...  \n",
       "3  following death district attorney harvey dent,...  \n",
       "4  john carter war-weary, former military captain...  "
      ]
     },
     "execution_count": 19,
     "metadata": {},
     "output_type": "execute_result"
    }
   ],
   "source": [
    "movie_data.head()"
   ]
  },
  {
   "cell_type": "code",
   "execution_count": 20,
   "id": "cb8a166b",
   "metadata": {},
   "outputs": [
    {
     "data": {
      "text/plain": [
       "'22nd century, paraplegic marine dispatched moon pandora unique mission, becomes torn following orders protecting alien civilization. action adventure fantasy science fiction cultureclash future spacewar spacecolony society spacetravel futuristic romance space alien tribe alienplanet cgi marine soldier battle loveaffair antiwar powerrelations mindandsoul 3d samworthington zoesaldana sigourneyweaver jamescameron'"
      ]
     },
     "execution_count": 20,
     "metadata": {},
     "output_type": "execute_result"
    }
   ],
   "source": [
    "movie_data['tags'][0]"
   ]
  },
  {
   "cell_type": "code",
   "execution_count": null,
   "id": "f8181bd0",
   "metadata": {},
   "outputs": [],
   "source": [
    "\n",
    "\n"
   ]
  },
  {
   "cell_type": "markdown",
   "id": "a462f140",
   "metadata": {},
   "source": [
    "# COUNT VECTORIZER"
   ]
  },
  {
   "cell_type": "code",
   "execution_count": 21,
   "id": "8becd3ad",
   "metadata": {},
   "outputs": [],
   "source": [
    "from sklearn.feature_extraction.text import CountVectorizer"
   ]
  },
  {
   "cell_type": "code",
   "execution_count": 24,
   "id": "dacc66f2",
   "metadata": {},
   "outputs": [],
   "source": [
    "cv=CountVectorizer(max_features=5000,stop_words='english')"
   ]
  },
  {
   "cell_type": "code",
   "execution_count": 29,
   "id": "810346ec",
   "metadata": {},
   "outputs": [],
   "source": [
    "vector=cv.fit_transform(movie_data['tags']).toarray()"
   ]
  },
  {
   "cell_type": "code",
   "execution_count": 30,
   "id": "106f83b4",
   "metadata": {},
   "outputs": [
    {
     "data": {
      "text/plain": [
       "(4805, 5000)"
      ]
     },
     "execution_count": 30,
     "metadata": {},
     "output_type": "execute_result"
    }
   ],
   "source": [
    "vector.shape"
   ]
  },
  {
   "cell_type": "code",
   "execution_count": null,
   "id": "2e0d3b72",
   "metadata": {},
   "outputs": [],
   "source": []
  },
  {
   "cell_type": "code",
   "execution_count": null,
   "id": "42d7ee91",
   "metadata": {},
   "outputs": [],
   "source": [
    "# from nltk.stem.porter import PorterStemmer\n",
    "# ps=PorterStemmer()\n",
    "\n",
    "# def stem"
   ]
  },
  {
   "cell_type": "markdown",
   "id": "e35abbe6",
   "metadata": {},
   "source": [
    "# Cosine similarity"
   ]
  },
  {
   "cell_type": "code",
   "execution_count": 31,
   "id": "3c3c0a8e",
   "metadata": {},
   "outputs": [],
   "source": [
    "from sklearn.metrics.pairwise import cosine_similarity"
   ]
  },
  {
   "cell_type": "code",
   "execution_count": 32,
   "id": "6cf2367f",
   "metadata": {},
   "outputs": [],
   "source": [
    "similarity=cosine_similarity(vector)"
   ]
  },
  {
   "cell_type": "code",
   "execution_count": 33,
   "id": "d181f971",
   "metadata": {},
   "outputs": [
    {
     "data": {
      "text/plain": [
       "(4805, 4805)"
      ]
     },
     "execution_count": 33,
     "metadata": {},
     "output_type": "execute_result"
    }
   ],
   "source": [
    "similarity.shape"
   ]
  },
  {
   "cell_type": "code",
   "execution_count": null,
   "id": "2879bede",
   "metadata": {},
   "outputs": [],
   "source": []
  },
  {
   "cell_type": "code",
   "execution_count": null,
   "id": "f53dc998",
   "metadata": {},
   "outputs": [],
   "source": []
  },
  {
   "cell_type": "code",
   "execution_count": 58,
   "id": "b5ca6d43",
   "metadata": {},
   "outputs": [],
   "source": [
    "def get_movies(movie):\n",
    "    index=movie_data[movie_data['title']==movie].index[0]\n",
    "    distance=similarity[index]\n",
    "    movielist=sorted(list(enumerate(distance)),reverse=True,key=(lambda x:x[1]))[0:10]\n",
    "#     print(movielist)\n",
    "    for i in movielist:\n",
    "        print(movie_data.iloc[i[0]].title)"
   ]
  },
  {
   "cell_type": "code",
   "execution_count": 59,
   "id": "0b565a34",
   "metadata": {},
   "outputs": [
    {
     "name": "stdout",
     "output_type": "stream",
     "text": [
      "Avatar\n",
      "Small Soldiers\n",
      "Titan A.E.\n",
      "Independence Day\n",
      "Lifeforce\n",
      "Aliens vs Predator: Requiem\n",
      "Battle: Los Angeles\n",
      "Ender's Game\n",
      "The Helix... Loaded\n",
      "Jupiter Ascending\n"
     ]
    }
   ],
   "source": [
    "get_movies('Avatar')"
   ]
  },
  {
   "cell_type": "code",
   "execution_count": 61,
   "id": "da58c1a8",
   "metadata": {},
   "outputs": [
    {
     "name": "stdout",
     "output_type": "stream",
     "text": [
      "John Carter\n",
      "Star Trek: Insurrection\n",
      "Mission to Mars\n",
      "The Martian\n",
      "Red Planet\n",
      "Escape from Planet Earth\n",
      "Captain America: The First Avenger\n",
      "Damnation Alley\n",
      "Ghosts of Mars\n",
      "Race to Witch Mountain\n"
     ]
    }
   ],
   "source": [
    "get_movies('John Carter')"
   ]
  },
  {
   "cell_type": "code",
   "execution_count": 66,
   "id": "acbaac96",
   "metadata": {},
   "outputs": [
    {
     "data": {
      "text/plain": [
       "\"Pirates of the Caribbean: At World's End\""
      ]
     },
     "execution_count": 66,
     "metadata": {},
     "output_type": "execute_result"
    }
   ],
   "source": [
    "movie_data.iloc[1].title"
   ]
  },
  {
   "cell_type": "code",
   "execution_count": 67,
   "id": "71ec35e7",
   "metadata": {},
   "outputs": [
    {
     "name": "stdout",
     "output_type": "stream",
     "text": [
      "Pirates of the Caribbean: At World's End\n",
      "Pirates of the Caribbean: Dead Man's Chest\n",
      "Pirates of the Caribbean: On Stranger Tides\n",
      "Pirates of the Caribbean: The Curse of the Black Pearl\n",
      "20,000 Leagues Under the Sea\n",
      "Puss in Boots\n",
      "Life of Pi\n",
      "Waterworld\n",
      "The Pirates! In an Adventure with Scientists!\n",
      "The Life Aquatic with Steve Zissou\n"
     ]
    }
   ],
   "source": [
    "get_movies('Pirates of the Caribbean: At World\\'s End')"
   ]
  },
  {
   "cell_type": "code",
   "execution_count": null,
   "id": "1ea6ff51",
   "metadata": {},
   "outputs": [],
   "source": []
  }
 ],
 "metadata": {
  "kernelspec": {
   "display_name": "Python 3 (ipykernel)",
   "language": "python",
   "name": "python3"
  },
  "language_info": {
   "codemirror_mode": {
    "name": "ipython",
    "version": 3
   },
   "file_extension": ".py",
   "mimetype": "text/x-python",
   "name": "python",
   "nbconvert_exporter": "python",
   "pygments_lexer": "ipython3",
   "version": "3.7.6"
  }
 },
 "nbformat": 4,
 "nbformat_minor": 5
}
