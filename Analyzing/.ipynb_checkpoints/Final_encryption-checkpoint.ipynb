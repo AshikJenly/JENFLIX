{
 "cells": [
  {
   "cell_type": "code",
   "execution_count": 7,
   "id": "adfda27b",
   "metadata": {},
   "outputs": [],
   "source": [
    "import random\n",
    "import string"
   ]
  },
  {
   "cell_type": "code",
   "execution_count": 8,
   "id": "ccfb1a96",
   "metadata": {},
   "outputs": [],
   "source": [
    "def generate_confusion_data():\n",
    "    alphabet = string.ascii_uppercase+string.ascii_lowercase + string.digits+\"!@#$%^&*><. \"\n",
    "    confusion_data = ''.join(random.sample(alphabet, random.randint(15,25)))\n",
    "    \n",
    "    return confusion_data"
   ]
  },
  {
   "cell_type": "code",
   "execution_count": 9,
   "id": "090724ae",
   "metadata": {},
   "outputs": [],
   "source": [
    "def alter_encrypted_value(encrypted_value,confusion_data):\n",
    "   \n",
    "    confusion_data=confusion_data+str(len(confusion_data))\n",
    "    \n",
    "    left=encrypted_value[:int(len(encrypted_value)/2)]\n",
    "    right=encrypted_value[int(len(encrypted_value)/2):len(encrypted_value)]\n",
    "    \n",
    "    l_len=str(len(left))\n",
    "    r_len=str(len(right))\n",
    "    \n",
    "    l_l_len=str(len(l_len))\n",
    "    l_r_len=str(len(r_len))\n",
    "\n",
    "    \n",
    "    left=left+r_len+l_r_len\n",
    "    right=right+l_l_len+l_len\n",
    "    \n",
    "    \n",
    "    encrypted_value=right+confusion_data+left\n",
    "    \n",
    "    \n",
    "    \n",
    "    return encrypted_value\n",
    "\n",
    "def realter_encrypted_value(encrypted_value):\n",
    "    digit_right=int(encrypted_value[-1:])\n",
    "    encrypted_value=encrypted_value[0:-1]\n",
    "    \n",
    "    len_right=int(encrypted_value[-digit_right:])\n",
    "    \n",
    "    encrypted_value=encrypted_value[:-digit_right]\n",
    "    \n",
    "    digit_left=int(encrypted_value[len_right])\n",
    "    len_left=int(encrypted_value[len_right+1:len_right+1+digit_left])\n",
    "    \n",
    "    real_value_left=encrypted_value[-len_left:]\n",
    "    real_value_right=encrypted_value[0:len_right]\n",
    "    \n",
    "    real_encrypted_data=real_value_left+real_value_right\n",
    "    \n",
    "    return real_encrypted_data"
   ]
  },
  {
   "cell_type": "code",
   "execution_count": 10,
   "id": "0d47e1d8",
   "metadata": {},
   "outputs": [],
   "source": [
    "def encryption(txt):\n",
    "    alphabet = string.ascii_uppercase+string.ascii_lowercase + string.digits+\"!@#$%^&*><. \"\n",
    "    encryption_key = ''.join(random.sample(alphabet, len(alphabet)))\n",
    "    encryption_map = dict(zip(alphabet, encryption_key))\n",
    "    encrypted_value=''.join((encryption_map.get(char) for char in txt))\n",
    "    \n",
    "    \n",
    "    encrypted_value=alter_encrypted_value(encrypted_value,generate_confusion_data())\n",
    "    \n",
    "    return encrypted_value,encryption_key"
   ]
  },
  {
   "cell_type": "code",
   "execution_count": 11,
   "id": "cc36ab22",
   "metadata": {},
   "outputs": [],
   "source": [
    "def decryption(txt,key):\n",
    "    \n",
    "    txt=realter_encrypted_value(txt)\n",
    "    alphabet = string.ascii_uppercase+string.ascii_lowercase + string.digits+\"!@#$%^&*><. \"\n",
    "\n",
    "    decryption_map = dict(zip(key,alphabet))\n",
    "    decryption_value=''.join((decryption_map.get(char) for char in txt))\n",
    "    \n",
    "    return decryption_value"
   ]
  },
  {
   "cell_type": "code",
   "execution_count": null,
   "id": "17f9302a",
   "metadata": {},
   "outputs": [],
   "source": []
  },
  {
   "cell_type": "code",
   "execution_count": null,
   "id": "78000a0a",
   "metadata": {},
   "outputs": [],
   "source": []
  },
  {
   "cell_type": "code",
   "execution_count": 12,
   "id": "5012224d",
   "metadata": {},
   "outputs": [],
   "source": [
    "uname=\"Ashik Jenly\"\n",
    "phone=\"9442034415\"\n",
    "email=\"jenlyashik@gmail.com\""
   ]
  },
  {
   "cell_type": "code",
   "execution_count": 13,
   "id": "e109fb03",
   "metadata": {},
   "outputs": [],
   "source": [
    "e,k=encryption(email)"
   ]
  },
  {
   "cell_type": "code",
   "execution_count": 14,
   "id": "f88850c6",
   "metadata": {},
   "outputs": [
    {
     "data": {
      "text/plain": [
       "'PQ5mXEoZG5210!9.wtBj xTmkPX2pQzK^20qLCE9m<lXv102'"
      ]
     },
     "execution_count": 14,
     "metadata": {},
     "output_type": "execute_result"
    }
   ],
   "source": [
    "e"
   ]
  },
  {
   "cell_type": "code",
   "execution_count": 15,
   "id": "6879135e",
   "metadata": {},
   "outputs": [
    {
     "data": {
      "text/plain": [
       "'jenlyashik@gmail.com'"
      ]
     },
     "execution_count": 15,
     "metadata": {},
     "output_type": "execute_result"
    }
   ],
   "source": [
    "decryption(e,k)"
   ]
  },
  {
   "cell_type": "code",
   "execution_count": 41,
   "id": "cf1756dd",
   "metadata": {},
   "outputs": [],
   "source": [
    "# random.seed(101)\n",
    "# generate_confusion_data()"
   ]
  },
  {
   "cell_type": "code",
   "execution_count": null,
   "id": "390a8141",
   "metadata": {},
   "outputs": [],
   "source": []
  }
 ],
 "metadata": {
  "kernelspec": {
   "display_name": "Python 3 (ipykernel)",
   "language": "python",
   "name": "python3"
  },
  "language_info": {
   "codemirror_mode": {
    "name": "ipython",
    "version": 3
   },
   "file_extension": ".py",
   "mimetype": "text/x-python",
   "name": "python",
   "nbconvert_exporter": "python",
   "pygments_lexer": "ipython3",
   "version": "3.10.6"
  }
 },
 "nbformat": 4,
 "nbformat_minor": 5
}
